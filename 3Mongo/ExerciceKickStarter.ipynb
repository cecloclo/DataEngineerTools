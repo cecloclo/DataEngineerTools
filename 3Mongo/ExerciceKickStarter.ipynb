{
 "cells": [
  {
   "cell_type": "markdown",
   "metadata": {},
   "source": [
    "#  Consignes\n",
    "\n",
    "## Description\n",
    "\n",
    "Ouvrir le fichier ks-projects-201801.csv, il recense environ 100 000 projets KickStarter. Intégrer les données directement avec L'API Python dans une base de données Mongo. \n",
    "\n",
    "Il conviendra de bien spécifier manuellement l'ID du document. Pensez aussi à bien formatter le type des données pour profiter des méthodes implémentées par Mongo. L'ensemble de données n'est pas forcément nécessaire, c'est à vous de créer votre modèle de données.\n",
    "\n",
    "## Questions\n",
    "\n",
    "- 1) Récupérer les 5 projets ayant reçu le plus de promesse de dons.\n",
    "- 2) Compter le nombre de projets ayant atteint leur but.\n",
    "- 3) Compter le nombre de projets pour chaque catégorie.\n",
    "- 4) Compter le nombre de projets français ayant été instanciés avant 2016.\n",
    "- 5) Récupérer les projets américains ayant demandé plus de 200 000 dollars.\n",
    "- 6) Compter le nombre de projet ayant \"Sport\" dans leur nom"
   ]
  },
  {
   "cell_type": "code",
   "execution_count": 2,
   "metadata": {},
   "outputs": [],
   "source": [
    "import pandas as pd\n",
    "import pymongo"
   ]
  },
  {
   "cell_type": "code",
   "execution_count": 3,
   "metadata": {},
   "outputs": [
    {
     "output_type": "stream",
     "name": "stdout",
     "text": [
      "Collection(Database(MongoClient(host=['localhost:27017'], document_class=dict, tz_aware=False, connect=True), 'exercices'), 'kickstarter')\n"
     ]
    }
   ],
   "source": [
    "client = pymongo.MongoClient()\n",
    "database = client['exercices']\n",
    "collection = database['kickstarter']\n",
    "print(collection)"
   ]
  },
  {
   "cell_type": "code",
   "execution_count": 38,
   "metadata": {},
   "outputs": [
    {
     "output_type": "execute_result",
     "data": {
      "text/plain": [
       "           ID                                               name  \\\n",
       "0   872782264    Scott Cooper's Solo CD \"A Leg Trick\" (Canceled)   \n",
       "1  1326492673                                    Ohceola jewelry   \n",
       "2  1688410639  Sluff Off & Harald: Two latest EGGs are Classi...   \n",
       "3   156812982  SketchPlanner: Create and Plan- all in one bea...   \n",
       "4  1835968190    Proven sales with custom motorcycle accessories   \n",
       "\n",
       "         category main_category currency    deadline   goal  \\\n",
       "0            Rock         Music      USD  2011-09-16   2000   \n",
       "1         Fashion       Fashion      USD  2012-08-22  18000   \n",
       "2  Tabletop Games         Games      USD  2016-07-19   2000   \n",
       "3       Art Books    Publishing      USD  2017-09-27  13000   \n",
       "4       Sculpture           Art      CAD  2016-02-24   5000   \n",
       "\n",
       "              launched pledged       state backers country usd pledged  \\\n",
       "0  2011-08-17 06:31:31    1145    canceled      24      US        1145   \n",
       "1  2012-07-23 20:46:48    1851      failed      28      US        1851   \n",
       "2  2016-07-01 21:55:54    7534  successful     254      US        3796   \n",
       "3  2017-08-28 15:47:02   16298  successful     367      US        2670   \n",
       "4  2016-01-25 17:37:10       1      failed       1      CA    0.708148   \n",
       "\n",
       "   usd_pledged_real  \n",
       "0       1145.000000  \n",
       "1       1851.000000  \n",
       "2       7534.000000  \n",
       "3      16298.000000  \n",
       "4          0.738225  "
      ],
      "text/html": "<div>\n<style scoped>\n    .dataframe tbody tr th:only-of-type {\n        vertical-align: middle;\n    }\n\n    .dataframe tbody tr th {\n        vertical-align: top;\n    }\n\n    .dataframe thead th {\n        text-align: right;\n    }\n</style>\n<table border=\"1\" class=\"dataframe\">\n  <thead>\n    <tr style=\"text-align: right;\">\n      <th></th>\n      <th>ID</th>\n      <th>name</th>\n      <th>category</th>\n      <th>main_category</th>\n      <th>currency</th>\n      <th>deadline</th>\n      <th>goal</th>\n      <th>launched</th>\n      <th>pledged</th>\n      <th>state</th>\n      <th>backers</th>\n      <th>country</th>\n      <th>usd pledged</th>\n      <th>usd_pledged_real</th>\n    </tr>\n  </thead>\n  <tbody>\n    <tr>\n      <th>0</th>\n      <td>872782264</td>\n      <td>Scott Cooper's Solo CD \"A Leg Trick\" (Canceled)</td>\n      <td>Rock</td>\n      <td>Music</td>\n      <td>USD</td>\n      <td>2011-09-16</td>\n      <td>2000</td>\n      <td>2011-08-17 06:31:31</td>\n      <td>1145</td>\n      <td>canceled</td>\n      <td>24</td>\n      <td>US</td>\n      <td>1145</td>\n      <td>1145.000000</td>\n    </tr>\n    <tr>\n      <th>1</th>\n      <td>1326492673</td>\n      <td>Ohceola jewelry</td>\n      <td>Fashion</td>\n      <td>Fashion</td>\n      <td>USD</td>\n      <td>2012-08-22</td>\n      <td>18000</td>\n      <td>2012-07-23 20:46:48</td>\n      <td>1851</td>\n      <td>failed</td>\n      <td>28</td>\n      <td>US</td>\n      <td>1851</td>\n      <td>1851.000000</td>\n    </tr>\n    <tr>\n      <th>2</th>\n      <td>1688410639</td>\n      <td>Sluff Off &amp; Harald: Two latest EGGs are Classi...</td>\n      <td>Tabletop Games</td>\n      <td>Games</td>\n      <td>USD</td>\n      <td>2016-07-19</td>\n      <td>2000</td>\n      <td>2016-07-01 21:55:54</td>\n      <td>7534</td>\n      <td>successful</td>\n      <td>254</td>\n      <td>US</td>\n      <td>3796</td>\n      <td>7534.000000</td>\n    </tr>\n    <tr>\n      <th>3</th>\n      <td>156812982</td>\n      <td>SketchPlanner: Create and Plan- all in one bea...</td>\n      <td>Art Books</td>\n      <td>Publishing</td>\n      <td>USD</td>\n      <td>2017-09-27</td>\n      <td>13000</td>\n      <td>2017-08-28 15:47:02</td>\n      <td>16298</td>\n      <td>successful</td>\n      <td>367</td>\n      <td>US</td>\n      <td>2670</td>\n      <td>16298.000000</td>\n    </tr>\n    <tr>\n      <th>4</th>\n      <td>1835968190</td>\n      <td>Proven sales with custom motorcycle accessories</td>\n      <td>Sculpture</td>\n      <td>Art</td>\n      <td>CAD</td>\n      <td>2016-02-24</td>\n      <td>5000</td>\n      <td>2016-01-25 17:37:10</td>\n      <td>1</td>\n      <td>failed</td>\n      <td>1</td>\n      <td>CA</td>\n      <td>0.708148</td>\n      <td>0.738225</td>\n    </tr>\n  </tbody>\n</table>\n</div>"
     },
     "metadata": {},
     "execution_count": 38
    }
   ],
   "source": [
    "df_ks = pd.read_csv(\"./data/ks-projects-201801-sample.csv\")\n",
    "df_ks.head()"
   ]
  },
  {
   "cell_type": "markdown",
   "metadata": {},
   "source": [
    "Ce warning intervient lorsque pandas n'arrive pas à inférer le type de données. Il est sympa il précise les colones 6,8,10,12. "
   ]
  },
  {
   "cell_type": "code",
   "execution_count": 24,
   "metadata": {},
   "outputs": [
    {
     "output_type": "execute_result",
     "data": {
      "text/plain": [
       "count     150000\n",
       "unique        24\n",
       "top           US\n",
       "freq      115977\n",
       "Name: country, dtype: object"
      ]
     },
     "metadata": {},
     "execution_count": 24
    }
   ],
   "source": [
    "df_ks.columns[[6,8,10,12]]\n",
    "df_ks['country']."
   ]
  },
  {
   "cell_type": "markdown",
   "metadata": {},
   "source": [
    "## Question 0"
   ]
  },
  {
   "cell_type": "markdown",
   "metadata": {},
   "source": [
    "### Netoyer les données"
   ]
  },
  {
   "cell_type": "code",
   "execution_count": 7,
   "metadata": {},
   "outputs": [
    {
     "output_type": "execute_result",
     "data": {
      "text/plain": [
       "ID                     0\n",
       "name                   2\n",
       "category               0\n",
       "main_category          0\n",
       "currency               0\n",
       "deadline               0\n",
       "goal                   0\n",
       "launched               0\n",
       "pledged                0\n",
       "state                  0\n",
       "backers                0\n",
       "country                0\n",
       "usd pledged         1482\n",
       "usd_pledged_real       0\n",
       "dtype: int64"
      ]
     },
     "metadata": {},
     "execution_count": 7
    }
   ],
   "source": [
    "df_ks.isna().sum()"
   ]
  },
  {
   "cell_type": "markdown",
   "metadata": {
    "slideshow": {
     "slide_type": "slide"
    }
   },
   "source": [
    "### Importer les données"
   ]
  },
  {
   "cell_type": "code",
   "execution_count": 45,
   "metadata": {},
   "outputs": [
    {
     "output_type": "execute_result",
     "data": {
      "text/plain": [
       "<pymongo.results.InsertManyResult at 0x2261fdb3888>"
      ]
     },
     "metadata": {},
     "execution_count": 45
    }
   ],
   "source": [
    "collection.drop()\n",
    "collection.insert_many(df_ks.to_dict('records'))"
   ]
  },
  {
   "cell_type": "code",
   "execution_count": 10,
   "metadata": {},
   "outputs": [
    {
     "output_type": "execute_result",
     "data": {
      "text/plain": [
       "['kickstarter']"
      ]
     },
     "metadata": {},
     "execution_count": 10
    }
   ],
   "source": [
    "database.collection_names()"
   ]
  },
  {
   "cell_type": "markdown",
   "metadata": {},
   "source": [
    "## Question 1  "
   ]
  },
  {
   "cell_type": "code",
   "execution_count": 46,
   "metadata": {},
   "outputs": [
    {
     "output_type": "execute_result",
     "data": {
      "text/plain": [
       "[{'_id': ObjectId('5fccf73fdb72f7e4a961c858'),\n",
       "  'ID': 218218259,\n",
       "  'name': 'True North ï¿½ Repurposed Sailcloth Products',\n",
       "  'category': 'Product Design',\n",
       "  'main_category': 'Design',\n",
       "  'currency': 'USD',\n",
       "  'deadline': '2016-06-14',\n",
       "  'goal': '7500.0',\n",
       "  'launched': '2016-05-10 15:53:56',\n",
       "  'pledged': '9996.0',\n",
       "  'state': 'successful',\n",
       "  'backers': '50',\n",
       "  'country': 'US',\n",
       "  'usd pledged': '9996.0',\n",
       "  'usd_pledged_real': 9996.0},\n",
       " {'_id': ObjectId('5fccf73fdb72f7e4a9617736'),\n",
       "  'ID': 1712352341,\n",
       "  'name': 'Scott Davis - Solo Record',\n",
       "  'category': 'Music',\n",
       "  'main_category': 'Music',\n",
       "  'currency': 'USD',\n",
       "  'deadline': '2014-11-22',\n",
       "  'goal': '8000.0',\n",
       "  'launched': '2014-10-23 20:06:37',\n",
       "  'pledged': '9995.0',\n",
       "  'state': 'undefined',\n",
       "  'backers': '0',\n",
       "  'country': 'N,0\"',\n",
       "  'usd pledged': nan,\n",
       "  'usd_pledged_real': 9995.0},\n",
       " {'_id': ObjectId('5fccf73edb72f7e4a9614ee6'),\n",
       "  'ID': 1742823215,\n",
       "  'name': 'Polco: A Digital Platform for Better Civic Communication',\n",
       "  'category': 'Web',\n",
       "  'main_category': 'Technology',\n",
       "  'currency': 'USD',\n",
       "  'deadline': '2017-08-11',\n",
       "  'goal': '35000.0',\n",
       "  'launched': '2017-06-27 21:46:04',\n",
       "  'pledged': '9994.0',\n",
       "  'state': 'failed',\n",
       "  'backers': '93',\n",
       "  'country': 'US',\n",
       "  'usd pledged': '876.0',\n",
       "  'usd_pledged_real': 9994.0},\n",
       " {'_id': ObjectId('5fccf73edb72f7e4a96134bb'),\n",
       "  'ID': 1247285954,\n",
       "  'name': '2016 Gaming Calendar',\n",
       "  'category': 'Tabletop Games',\n",
       "  'main_category': 'Games',\n",
       "  'currency': 'USD',\n",
       "  'deadline': '2015-07-25',\n",
       "  'goal': '3000.0',\n",
       "  'launched': '2015-06-26 14:57:14',\n",
       "  'pledged': '9994.0',\n",
       "  'state': 'successful',\n",
       "  'backers': '258',\n",
       "  'country': 'US',\n",
       "  'usd pledged': '9994.0',\n",
       "  'usd_pledged_real': 9994.0},\n",
       " {'_id': ObjectId('5fccf73edb72f7e4a9616850'),\n",
       "  'ID': 796104705,\n",
       "  'name': 'The Girl in The Mountain - Film',\n",
       "  'category': 'Science Fiction',\n",
       "  'main_category': 'Film & Video',\n",
       "  'currency': 'GBP',\n",
       "  'deadline': '2015-10-01',\n",
       "  'goal': '6500.0',\n",
       "  'launched': '2015-08-31 02:11:11',\n",
       "  'pledged': '999.0',\n",
       "  'state': 'failed',\n",
       "  'backers': '12',\n",
       "  'country': 'GB',\n",
       "  'usd pledged': '1537.65168912',\n",
       "  'usd_pledged_real': 1515.1974761875872}]"
      ]
     },
     "metadata": {},
     "execution_count": 46
    }
   ],
   "source": [
    "cur = collection.find().sort([(\"pledged\", -1)]).limit(5)\n",
    "list(cur)"
   ]
  },
  {
   "cell_type": "markdown",
   "metadata": {},
   "source": [
    "## Question 2"
   ]
  },
  {
   "cell_type": "code",
   "execution_count": 47,
   "metadata": {},
   "outputs": [
    {
     "output_type": "stream",
     "name": "stdout",
     "text": [
      "53040\n"
     ]
    }
   ],
   "source": [
    "cur = collection.count({\"state\":\"successful\"})\n",
    "print(cur)"
   ]
  },
  {
   "cell_type": "markdown",
   "metadata": {},
   "source": [
    "## Question 3"
   ]
  },
  {
   "cell_type": "code",
   "execution_count": 48,
   "metadata": {},
   "outputs": [
    {
     "output_type": "execute_result",
     "data": {
      "text/plain": [
       "[{'_id': 'Comic Books', 'nombre dans categorie': 1032},\n",
       " {'_id': 'Workshops', 'nombre dans categorie': 59},\n",
       " {'_id': 'Faith', 'nombre dans categorie': 439},\n",
       " {'_id': 'Ceramics', 'nombre dans categorie': 128},\n",
       " {'_id': 'Quilts', 'nombre dans categorie': 32},\n",
       " {'_id': 'Grace is Leaving', 'nombre dans categorie': 1},\n",
       " {'_id': 'Apparel', 'nombre dans categorie': 2827},\n",
       " {'_id': 'Vegan', 'nombre dans categorie': 229},\n",
       " {'_id': 'People', 'nombre dans categorie': 440},\n",
       " {'_id': 'Animation', 'nombre dans categorie': 1017},\n",
       " {'_id': 'Print', 'nombre dans categorie': 288},\n",
       " {'_id': 'Electronic Music', 'nombre dans categorie': 858},\n",
       " {'_id': 'Musical', 'nombre dans categorie': 367},\n",
       " {'_id': 'Farms', 'nombre dans categorie': 482},\n",
       " {'_id': 'Ready-to-wear', 'nombre dans categorie': 332},\n",
       " {'_id': 'Immersive', 'nombre dans categorie': 131},\n",
       " {'_id': 'Pop', 'nombre dans categorie': 1302},\n",
       " {'_id': 'Comedy', 'nombre dans categorie': 923},\n",
       " {'_id': 'Narrative Film', 'nombre dans categorie': 2099},\n",
       " {'_id': 'Dance', 'nombre dans categorie': 901},\n",
       " {'_id': 'Small Batch', 'nombre dans categorie': 701},\n",
       " {'_id': 'Pet Fashion', 'nombre dans categorie': 51},\n",
       " {'_id': 'Games', 'nombre dans categorie': 1331},\n",
       " {'_id': 'Art Books', 'nombre dans categorie': 1065},\n",
       " {'_id': 'R&B', 'nombre dans categorie': 172},\n",
       " {'_id': '3D Printing', 'nombre dans categorie': 271},\n",
       " {'_id': 'Food Trucks', 'nombre dans categorie': 687},\n",
       " {'_id': 'Printing', 'nombre dans categorie': 83},\n",
       " {'_id': 'Jewelry', 'nombre dans categorie': 472},\n",
       " {'_id': 'Hardware', 'nombre dans categorie': 1431},\n",
       " {'_id': 'Product Design', 'nombre dans categorie': 8886},\n",
       " {'_id': 'Music', 'nombre dans categorie': 6229},\n",
       " {'_id': 'Drama', 'nombre dans categorie': 871},\n",
       " {'_id': 'Accessories', 'nombre dans categorie': 1204},\n",
       " {'_id': 'Nonfiction', 'nombre dans categorie': 3390},\n",
       " {'_id': 'Apps', 'nombre dans categorie': 2535},\n",
       " {'_id': 'Fashion', 'nombre dans categorie': 3379},\n",
       " {'_id': 'Experimental', 'nombre dans categorie': 357},\n",
       " {'_id': 'Young Adult', 'nombre dans categorie': 328},\n",
       " {'_id': 'Webcomics', 'nombre dans categorie': 259},\n",
       " {'_id': 'Literary Journals', 'nombre dans categorie': 118},\n",
       " {'_id': 'Embroidery', 'nombre dans categorie': 49},\n",
       " {'_id': 'Knitting', 'nombre dans categorie': 78},\n",
       " {'_id': 'Metal', 'nombre dans categorie': 274},\n",
       " {'_id': 'Photography', 'nombre dans categorie': 2239},\n",
       " {'_id': 'Theater', 'nombre dans categorie': 2786},\n",
       " {'_id': 'Digital Art', 'nombre dans categorie': 524},\n",
       " {'_id': 'Journalism', 'nombre dans categorie': 672},\n",
       " {'_id': 'Puzzles', 'nombre dans categorie': 95},\n",
       " {'_id': 'Webseries', 'nombre dans categorie': 2316},\n",
       " {'_id': 'Camera Equipment', 'nombre dans categorie': 165},\n",
       " {'_id': 'Makerspaces', 'nombre dans categorie': 91},\n",
       " {'_id': 'Rock', 'nombre dans categorie': 2707},\n",
       " {'_id': 'Flight', 'nombre dans categorie': 158},\n",
       " {'_id': 'Art', 'nombre dans categorie': 3358},\n",
       " {'_id': 'Residencies', 'nombre dans categorie': 32},\n",
       " {'_id': 'Horror', 'nombre dans categorie': 525},\n",
       " {'_id': 'Video Art', 'nombre dans categorie': 65},\n",
       " {'_id': 'Chiptune', 'nombre dans categorie': 10},\n",
       " {'_id': 'Stationery', 'nombre dans categorie': 90},\n",
       " {'_id': 'Sculpture', 'nombre dans categorie': 737},\n",
       " {'_id': 'Video Games', 'nombre dans categorie': 4799},\n",
       " {'_id': 'Classical Music', 'nombre dans categorie': 1064},\n",
       " {'_id': 'Publishing', 'nombre dans categorie': 2332},\n",
       " {'_id': 'Childrenswear', 'nombre dans categorie': 192},\n",
       " {'_id': 'Zines', 'nombre dans categorie': 144},\n",
       " {'_id': 'Movie Theaters', 'nombre dans categorie': 90},\n",
       " {'_id': 'Cookbooks', 'nombre dans categorie': 217},\n",
       " {'_id': 'Photo', 'nombre dans categorie': 58},\n",
       " {'_id': 'Documentary', 'nombre dans categorie': 6498},\n",
       " {'_id': 'Hip-Hop', 'nombre dans categorie': 1555},\n",
       " {'_id': 'DIY', 'nombre dans categorie': 480},\n",
       " {'_id': 'Sound', 'nombre dans categorie': 255},\n",
       " {'_id': 'Illustration', 'nombre dans categorie': 1263},\n",
       " {'_id': 'Technology', 'nombre dans categorie': 2690},\n",
       " {'_id': 'Installations', 'nombre dans categorie': 178},\n",
       " {'_id': 'Typography', 'nombre dans categorie': 44},\n",
       " {'_id': 'Fabrication Tools', 'nombre dans categorie': 96},\n",
       " {'_id': 'Calendars', 'nombre dans categorie': 112},\n",
       " {'_id': 'Spaces', 'nombre dans categorie': 331},\n",
       " {'_id': 'Space Exploration', 'nombre dans categorie': 137},\n",
       " {'_id': 'Fine Art', 'nombre dans categorie': 291},\n",
       " {'_id': 'Crafts', 'nombre dans categorie': 1834},\n",
       " {'_id': 'Robots', 'nombre dans categorie': 237},\n",
       " {'_id': 'Academic', 'nombre dans categorie': 367},\n",
       " {'_id': 'Wearables', 'nombre dans categorie': 508},\n",
       " {'_id': 'Music Videos', 'nombre dans categorie': 299},\n",
       " {'_id': 'Gadgets', 'nombre dans categorie': 1210},\n",
       " {'_id': 'Anthologies', 'nombre dans categorie': 300},\n",
       " {'_id': 'Places', 'nombre dans categorie': 283},\n",
       " {'_id': 'Performance Art', 'nombre dans categorie': 855},\n",
       " {'_id': 'Glass', 'nombre dans categorie': 51},\n",
       " {'_id': 'Civic Design', 'nombre dans categorie': 130},\n",
       " {'_id': 'Software', 'nombre dans categorie': 1194},\n",
       " {'_id': 'Jazz', 'nombre dans categorie': 733},\n",
       " {'_id': 'Drinks', 'nombre dans categorie': 995},\n",
       " {'_id': 'Film & Video', 'nombre dans categorie': 4003},\n",
       " {'_id': 'Nature', 'nombre dans categorie': 219},\n",
       " {'_id': 'Painting', 'nombre dans categorie': 1288},\n",
       " {'_id': 'Fiction', 'nombre dans categorie': 3703},\n",
       " {'_id': 'Fantasy', 'nombre dans categorie': 132},\n",
       " {'_id': 'Country & Folk', 'nombre dans categorie': 1790},\n",
       " {'_id': 'Playing Cards', 'nombre dans categorie': 963},\n",
       " {'_id': 'Letterpress', 'nombre dans categorie': 24},\n",
       " {'_id': 'Science Fiction', 'nombre dans categorie': 274},\n",
       " {'_id': 'Action', 'nombre dans categorie': 282},\n",
       " {'_id': \"Children's Books\", 'nombre dans categorie': 2686},\n",
       " {'_id': 'Interactive Design', 'nombre dans categorie': 146},\n",
       " {'_id': 'Mobile Games', 'nombre dans categorie': 650},\n",
       " {'_id': 'Literary Spaces', 'nombre dans categorie': 10},\n",
       " {'_id': 'Crochet', 'nombre dans categorie': 61},\n",
       " {'_id': 'Woodworking', 'nombre dans categorie': 433},\n",
       " {'_id': 'Tabletop Games', 'nombre dans categorie': 5581},\n",
       " {'_id': 'Live Games', 'nombre dans categorie': 394},\n",
       " {'_id': 'Kids', 'nombre dans categorie': 109},\n",
       " {'_id': 'Restaurants', 'nombre dans categorie': 1089},\n",
       " {'_id': 'Graphic Novels', 'nombre dans categorie': 702},\n",
       " {'_id': 'Conceptual Art', 'nombre dans categorie': 393},\n",
       " {'_id': 'Family', 'nombre dans categorie': 130},\n",
       " {'_id': 'Footwear', 'nombre dans categorie': 379},\n",
       " {'_id': 'Weaving', 'nombre dans categorie': 38},\n",
       " {'_id': 'Pottery', 'nombre dans categorie': 40},\n",
       " {'_id': 'Graphic Design', 'nombre dans categorie': 765},\n",
       " {'_id': 'Events', 'nombre dans categorie': 322},\n",
       " {'_id': 'Architecture', 'nombre dans categorie': 300},\n",
       " {'_id': 'Poetry', 'nombre dans categorie': 532},\n",
       " {'_id': 'Gaming Hardware', 'nombre dans categorie': 178},\n",
       " {'_id': 'Audio', 'nombre dans categorie': 164},\n",
       " {'_id': 'Textiles', 'nombre dans categorie': 105},\n",
       " {'_id': 'Performances', 'nombre dans categorie': 414},\n",
       " {'_id': 'Indie Rock', 'nombre dans categorie': 2192},\n",
       " {'_id': 'Video', 'nombre dans categorie': 147},\n",
       " {'_id': 'Animals', 'nombre dans categorie': 97},\n",
       " {'_id': 'Romance', 'nombre dans categorie': 74},\n",
       " {'_id': 'Radio & Podcasts', 'nombre dans categorie': 349},\n",
       " {'_id': 'Web', 'nombre dans categorie': 2017},\n",
       " {'_id': 'Candles', 'nombre dans categorie': 168},\n",
       " {'_id': 'Mixed Media', 'nombre dans categorie': 1118},\n",
       " {'_id': 'Photobooks', 'nombre dans categorie': 608},\n",
       " {'_id': 'Shorts', 'nombre dans categorie': 4857},\n",
       " {'_id': 'Blues', 'nombre dans categorie': 113},\n",
       " {'_id': 'Television', 'nombre dans categorie': 401},\n",
       " {'_id': 'Bacon', 'nombre dans categorie': 78},\n",
       " {'_id': 'Translations', 'nombre dans categorie': 76},\n",
       " {'_id': 'Periodicals', 'nombre dans categorie': 517},\n",
       " {'_id': 'Couture', 'nombre dans categorie': 108},\n",
       " {'_id': 'Festivals', 'nombre dans categorie': 313},\n",
       " {'_id': 'Latin', 'nombre dans categorie': 63},\n",
       " {'_id': 'Design', 'nombre dans categorie': 1641},\n",
       " {'_id': 'Public Art', 'nombre dans categorie': 1248},\n",
       " {'_id': 'World Music', 'nombre dans categorie': 850},\n",
       " {'_id': 'Plays', 'nombre dans categorie': 539},\n",
       " {'_id': 'Food', 'nombre dans categorie': 4612},\n",
       " {'_id': 'DIY Electronics', 'nombre dans categorie': 358},\n",
       " {'_id': 'Community Gardens', 'nombre dans categorie': 115},\n",
       " {'_id': 'Punk', 'nombre dans categorie': 127},\n",
       " {'_id': 'Comics', 'nombre dans categorie': 1931},\n",
       " {'_id': 'Thrillers', 'nombre dans categorie': 302},\n",
       " {'_id': 'Taxidermy', 'nombre dans categorie': 7},\n",
       " {'_id': \"Farmer's Markets\", 'nombre dans categorie': 175}]"
      ]
     },
     "metadata": {},
     "execution_count": 48
    }
   ],
   "source": [
    "cur = database.kickstarter.aggregate([{\"$group\" : {\"_id\" : \"$category\", \"nombre dans categorie\" : {\"$sum\" : 1}}}])\n",
    "list(cur)"
   ]
  },
  {
   "cell_type": "markdown",
   "metadata": {},
   "source": [
    "## Question 4"
   ]
  },
  {
   "cell_type": "code",
   "execution_count": 76,
   "metadata": {},
   "outputs": [
    {
     "output_type": "stream",
     "name": "stdout",
     "text": [
      "1173\n"
     ]
    }
   ],
   "source": [
    "cur = collection.count({\"$and\":[{\"country\":\"FR\"}, {\"launched\":{\"$ne\":2016}}]})\n",
    "print(cur)"
   ]
  },
  {
   "cell_type": "markdown",
   "metadata": {},
   "source": [
    "## Question 5"
   ]
  },
  {
   "cell_type": "code",
   "execution_count": 43,
   "metadata": {},
   "outputs": [],
   "source": [
    "cur = collection.find({\"$and\":[{\"country\":\"US\"}, {\"usd_pledged_real\":{\"$gte\" :200000}}]})\n",
    "#list(cur)"
   ]
  },
  {
   "cell_type": "markdown",
   "metadata": {},
   "source": [
    "## Question 6 "
   ]
  },
  {
   "cell_type": "code",
   "execution_count": 75,
   "metadata": {},
   "outputs": [
    {
     "output_type": "stream",
     "name": "stdout",
     "text": [
      "0\n"
     ]
    }
   ],
   "source": [
    "cur = collection.count({\"name\": \"/Sport/i\"})\n",
    "print(cur)"
   ]
  }
 ],
 "metadata": {
  "kernelspec": {
   "display_name": "Python 3",
   "language": "python",
   "name": "python3"
  },
  "language_info": {
   "codemirror_mode": {
    "name": "ipython",
    "version": 3
   },
   "file_extension": ".py",
   "mimetype": "text/x-python",
   "name": "python",
   "nbconvert_exporter": "python",
   "pygments_lexer": "ipython3",
   "version": "3.7.6-final"
  }
 },
 "nbformat": 4,
 "nbformat_minor": 2
}